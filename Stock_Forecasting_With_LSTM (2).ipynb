{
 "cells": [
  {
   "cell_type": "markdown",
   "id": "62f576be-4492-417b-bed7-0ee4b7b58255",
   "metadata": {},
   "source": [
    "# Importing and Creating The Dataframe"
   ]
  },
  {
   "cell_type": "code",
   "execution_count": 1,
   "id": "8119c1e8-3700-4eba-8d36-461ad2da9c37",
   "metadata": {},
   "outputs": [
    {
     "name": "stderr",
     "output_type": "stream",
     "text": [
      "C:\\Users\\Bugra\\anaconda3\\envs\\tensorflow-gpu\\lib\\site-packages\\tensorflow_addons\\utils\\tfa_eol_msg.py:23: UserWarning: \n",
      "\n",
      "TensorFlow Addons (TFA) has ended development and introduction of new features.\n",
      "TFA has entered a minimal maintenance and release mode until a planned end of life in May 2024.\n",
      "Please modify downstream libraries to take dependencies from other repositories in our TensorFlow community (e.g. Keras, Keras-CV, and Keras-NLP). \n",
      "\n",
      "For more information see: https://github.com/tensorflow/addons/issues/2807 \n",
      "\n",
      "  warnings.warn(\n",
      "C:\\Users\\Bugra\\anaconda3\\envs\\tensorflow-gpu\\lib\\site-packages\\tensorflow_addons\\utils\\ensure_tf_install.py:53: UserWarning: Tensorflow Addons supports using Python ops for all Tensorflow versions above or equal to 2.12.0 and strictly below 2.15.0 (nightly versions are not supported). \n",
      " The versions of TensorFlow you are currently using is 2.10.0 and is not supported. \n",
      "Some things might work, some things might not.\n",
      "If you were to encounter a bug, do not file an issue.\n",
      "If you want to make sure you're using a tested and supported configuration, either change the TensorFlow version or the TensorFlow Addons's version. \n",
      "You can find the compatibility matrix in TensorFlow Addon's readme:\n",
      "https://github.com/tensorflow/addons\n",
      "  warnings.warn(\n"
     ]
    }
   ],
   "source": [
    "from tensorflow_addons.optimizers import AdamW\n"
   ]
  },
  {
   "cell_type": "code",
   "execution_count": 125,
   "id": "9e1027b8-16be-4db6-9f99-2e6a35eb69ba",
   "metadata": {},
   "outputs": [],
   "source": [
    "import pandas as pd \n",
    "import numpy as np \n",
    "import matplotlib.pyplot as plt \n",
    "from sklearn.preprocessing import MinMaxScaler\n",
    "from sklearn.model_selection import train_test_split\n",
    "import tensorflow as tf\n",
    "from tensorflow.keras.layers import LSTM, Dense, Dropout, BatchNormalization\n",
    "from tensorflow.keras.callbacks import EarlyStopping, ReduceLROnPlateau\n",
    "\n",
    "from tensorflow.keras.models import Sequential\n",
    "from sklearn.metrics import mean_squared_error, mean_absolute_error, r2_score\n",
    "from tensorflow.keras.metrics import RootMeanSquaredError\n",
    "from tensorflow.keras.layers import InputLayer\n",
    "from tensorflow.keras.callbacks import ModelCheckpoint\n",
    "from tensorflow.keras.optimizers import Adam\n",
    "from tensorflow.keras.models import load_model"
   ]
  },
  {
   "cell_type": "code",
   "execution_count": 4,
   "id": "6699d175-e18c-4cb3-a302-3b752380abf4",
   "metadata": {},
   "outputs": [],
   "source": [
    "raw = pd.read_csv(\"NKE_Stock_Prices.csv\")"
   ]
  },
  {
   "cell_type": "code",
   "execution_count": 5,
   "id": "890628f2-7520-4d8f-a55f-1e5a728c935d",
   "metadata": {},
   "outputs": [],
   "source": [
    "df = raw.copy()"
   ]
  },
  {
   "cell_type": "code",
   "execution_count": 6,
   "id": "6158397c-7ba0-4f36-8659-20624ee1f075",
   "metadata": {},
   "outputs": [
    {
     "data": {
      "text/html": [
       "<div>\n",
       "<style scoped>\n",
       "    .dataframe tbody tr th:only-of-type {\n",
       "        vertical-align: middle;\n",
       "    }\n",
       "\n",
       "    .dataframe tbody tr th {\n",
       "        vertical-align: top;\n",
       "    }\n",
       "\n",
       "    .dataframe thead th {\n",
       "        text-align: right;\n",
       "    }\n",
       "</style>\n",
       "<table border=\"1\" class=\"dataframe\">\n",
       "  <thead>\n",
       "    <tr style=\"text-align: right;\">\n",
       "      <th></th>\n",
       "      <th>date</th>\n",
       "      <th>open</th>\n",
       "      <th>high</th>\n",
       "      <th>low</th>\n",
       "      <th>close</th>\n",
       "      <th>volume</th>\n",
       "    </tr>\n",
       "  </thead>\n",
       "  <tbody>\n",
       "    <tr>\n",
       "      <th>0</th>\n",
       "      <td>12/2/1980</td>\n",
       "      <td>0.0567</td>\n",
       "      <td>0.0580</td>\n",
       "      <td>0.0567</td>\n",
       "      <td>0.0567</td>\n",
       "      <td>100710400</td>\n",
       "    </tr>\n",
       "    <tr>\n",
       "      <th>1</th>\n",
       "      <td>12/3/1980</td>\n",
       "      <td>0.0561</td>\n",
       "      <td>0.0561</td>\n",
       "      <td>0.0555</td>\n",
       "      <td>0.0555</td>\n",
       "      <td>25177600</td>\n",
       "    </tr>\n",
       "    <tr>\n",
       "      <th>2</th>\n",
       "      <td>12/4/1980</td>\n",
       "      <td>0.0573</td>\n",
       "      <td>0.0580</td>\n",
       "      <td>0.0573</td>\n",
       "      <td>0.0573</td>\n",
       "      <td>22694400</td>\n",
       "    </tr>\n",
       "    <tr>\n",
       "      <th>3</th>\n",
       "      <td>12/5/1980</td>\n",
       "      <td>0.0555</td>\n",
       "      <td>0.0555</td>\n",
       "      <td>0.0543</td>\n",
       "      <td>0.0543</td>\n",
       "      <td>7590400</td>\n",
       "    </tr>\n",
       "    <tr>\n",
       "      <th>4</th>\n",
       "      <td>12/8/1980</td>\n",
       "      <td>0.0518</td>\n",
       "      <td>0.0518</td>\n",
       "      <td>0.0512</td>\n",
       "      <td>0.0512</td>\n",
       "      <td>5414400</td>\n",
       "    </tr>\n",
       "    <tr>\n",
       "      <th>5</th>\n",
       "      <td>12/9/1980</td>\n",
       "      <td>0.0512</td>\n",
       "      <td>0.0512</td>\n",
       "      <td>0.0500</td>\n",
       "      <td>0.0500</td>\n",
       "      <td>5824000</td>\n",
       "    </tr>\n",
       "    <tr>\n",
       "      <th>6</th>\n",
       "      <td>12/10/1980</td>\n",
       "      <td>0.0487</td>\n",
       "      <td>0.0487</td>\n",
       "      <td>0.0469</td>\n",
       "      <td>0.0469</td>\n",
       "      <td>5875200</td>\n",
       "    </tr>\n",
       "    <tr>\n",
       "      <th>7</th>\n",
       "      <td>12/11/1980</td>\n",
       "      <td>0.0456</td>\n",
       "      <td>0.0456</td>\n",
       "      <td>0.0444</td>\n",
       "      <td>0.0444</td>\n",
       "      <td>5440000</td>\n",
       "    </tr>\n",
       "    <tr>\n",
       "      <th>8</th>\n",
       "      <td>12/12/1980</td>\n",
       "      <td>0.0463</td>\n",
       "      <td>0.0469</td>\n",
       "      <td>0.0463</td>\n",
       "      <td>0.0463</td>\n",
       "      <td>8153600</td>\n",
       "    </tr>\n",
       "    <tr>\n",
       "      <th>9</th>\n",
       "      <td>12/15/1980</td>\n",
       "      <td>0.0481</td>\n",
       "      <td>0.0487</td>\n",
       "      <td>0.0481</td>\n",
       "      <td>0.0481</td>\n",
       "      <td>6643200</td>\n",
       "    </tr>\n",
       "    <tr>\n",
       "      <th>10</th>\n",
       "      <td>12/16/1980</td>\n",
       "      <td>0.0481</td>\n",
       "      <td>0.0481</td>\n",
       "      <td>0.0469</td>\n",
       "      <td>0.0469</td>\n",
       "      <td>6630400</td>\n",
       "    </tr>\n",
       "    <tr>\n",
       "      <th>11</th>\n",
       "      <td>12/17/1980</td>\n",
       "      <td>0.0463</td>\n",
       "      <td>0.0463</td>\n",
       "      <td>0.0450</td>\n",
       "      <td>0.0450</td>\n",
       "      <td>4672000</td>\n",
       "    </tr>\n",
       "    <tr>\n",
       "      <th>12</th>\n",
       "      <td>12/18/1980</td>\n",
       "      <td>0.0463</td>\n",
       "      <td>0.0475</td>\n",
       "      <td>0.0463</td>\n",
       "      <td>0.0463</td>\n",
       "      <td>11251200</td>\n",
       "    </tr>\n",
       "    <tr>\n",
       "      <th>13</th>\n",
       "      <td>12/19/1980</td>\n",
       "      <td>0.0481</td>\n",
       "      <td>0.0487</td>\n",
       "      <td>0.0481</td>\n",
       "      <td>0.0481</td>\n",
       "      <td>10035200</td>\n",
       "    </tr>\n",
       "    <tr>\n",
       "      <th>14</th>\n",
       "      <td>12/22/1980</td>\n",
       "      <td>0.0481</td>\n",
       "      <td>0.0493</td>\n",
       "      <td>0.0481</td>\n",
       "      <td>0.0481</td>\n",
       "      <td>1856000</td>\n",
       "    </tr>\n",
       "    <tr>\n",
       "      <th>15</th>\n",
       "      <td>12/23/1980</td>\n",
       "      <td>0.0493</td>\n",
       "      <td>0.0506</td>\n",
       "      <td>0.0493</td>\n",
       "      <td>0.0493</td>\n",
       "      <td>5696000</td>\n",
       "    </tr>\n",
       "    <tr>\n",
       "      <th>16</th>\n",
       "      <td>12/24/1980</td>\n",
       "      <td>0.0512</td>\n",
       "      <td>0.0524</td>\n",
       "      <td>0.0512</td>\n",
       "      <td>0.0512</td>\n",
       "      <td>2444800</td>\n",
       "    </tr>\n",
       "    <tr>\n",
       "      <th>17</th>\n",
       "      <td>12/26/1980</td>\n",
       "      <td>0.0518</td>\n",
       "      <td>0.0530</td>\n",
       "      <td>0.0518</td>\n",
       "      <td>0.0518</td>\n",
       "      <td>1459200</td>\n",
       "    </tr>\n",
       "    <tr>\n",
       "      <th>18</th>\n",
       "      <td>12/29/1980</td>\n",
       "      <td>0.0518</td>\n",
       "      <td>0.0524</td>\n",
       "      <td>0.0512</td>\n",
       "      <td>0.0512</td>\n",
       "      <td>1740800</td>\n",
       "    </tr>\n",
       "    <tr>\n",
       "      <th>19</th>\n",
       "      <td>12/30/1980</td>\n",
       "      <td>0.0524</td>\n",
       "      <td>0.0530</td>\n",
       "      <td>0.0524</td>\n",
       "      <td>0.0524</td>\n",
       "      <td>4364800</td>\n",
       "    </tr>\n",
       "  </tbody>\n",
       "</table>\n",
       "</div>"
      ],
      "text/plain": [
       "          date    open    high     low   close     volume\n",
       "0    12/2/1980  0.0567  0.0580  0.0567  0.0567  100710400\n",
       "1    12/3/1980  0.0561  0.0561  0.0555  0.0555   25177600\n",
       "2    12/4/1980  0.0573  0.0580  0.0573  0.0573   22694400\n",
       "3    12/5/1980  0.0555  0.0555  0.0543  0.0543    7590400\n",
       "4    12/8/1980  0.0518  0.0518  0.0512  0.0512    5414400\n",
       "5    12/9/1980  0.0512  0.0512  0.0500  0.0500    5824000\n",
       "6   12/10/1980  0.0487  0.0487  0.0469  0.0469    5875200\n",
       "7   12/11/1980  0.0456  0.0456  0.0444  0.0444    5440000\n",
       "8   12/12/1980  0.0463  0.0469  0.0463  0.0463    8153600\n",
       "9   12/15/1980  0.0481  0.0487  0.0481  0.0481    6643200\n",
       "10  12/16/1980  0.0481  0.0481  0.0469  0.0469    6630400\n",
       "11  12/17/1980  0.0463  0.0463  0.0450  0.0450    4672000\n",
       "12  12/18/1980  0.0463  0.0475  0.0463  0.0463   11251200\n",
       "13  12/19/1980  0.0481  0.0487  0.0481  0.0481   10035200\n",
       "14  12/22/1980  0.0481  0.0493  0.0481  0.0481    1856000\n",
       "15  12/23/1980  0.0493  0.0506  0.0493  0.0493    5696000\n",
       "16  12/24/1980  0.0512  0.0524  0.0512  0.0512    2444800\n",
       "17  12/26/1980  0.0518  0.0530  0.0518  0.0518    1459200\n",
       "18  12/29/1980  0.0518  0.0524  0.0512  0.0512    1740800\n",
       "19  12/30/1980  0.0524  0.0530  0.0524  0.0524    4364800"
      ]
     },
     "execution_count": 6,
     "metadata": {},
     "output_type": "execute_result"
    }
   ],
   "source": [
    "raw.head(20)"
   ]
  },
  {
   "cell_type": "code",
   "execution_count": 7,
   "id": "21950324-bb3e-443d-abe5-f24cb16caf9c",
   "metadata": {},
   "outputs": [
    {
     "data": {
      "text/plain": [
       "date      0\n",
       "open      0\n",
       "high      0\n",
       "low       0\n",
       "close     0\n",
       "volume    0\n",
       "dtype: int64"
      ]
     },
     "execution_count": 7,
     "metadata": {},
     "output_type": "execute_result"
    }
   ],
   "source": [
    "raw.isna().sum()"
   ]
  },
  {
   "cell_type": "code",
   "execution_count": 8,
   "id": "754a5508-16cf-4e0d-a6b9-ae389b329428",
   "metadata": {},
   "outputs": [],
   "source": [
    "df.date = pd.to_datetime(df.date)"
   ]
  },
  {
   "cell_type": "code",
   "execution_count": 9,
   "id": "5a3e0de8-32b5-416c-87a2-87ef4c5bc33a",
   "metadata": {},
   "outputs": [
    {
     "name": "stdout",
     "output_type": "stream",
     "text": [
      "<class 'pandas.core.frame.DataFrame'>\n",
      "RangeIndex: 11147 entries, 0 to 11146\n",
      "Data columns (total 6 columns):\n",
      " #   Column  Non-Null Count  Dtype         \n",
      "---  ------  --------------  -----         \n",
      " 0   date    11147 non-null  datetime64[ns]\n",
      " 1   open    11147 non-null  float64       \n",
      " 2   high    11147 non-null  float64       \n",
      " 3   low     11147 non-null  float64       \n",
      " 4   close   11147 non-null  float64       \n",
      " 5   volume  11147 non-null  int64         \n",
      "dtypes: datetime64[ns](1), float64(4), int64(1)\n",
      "memory usage: 522.6 KB\n"
     ]
    }
   ],
   "source": [
    "df.info()"
   ]
  },
  {
   "cell_type": "code",
   "execution_count": 10,
   "id": "62a7dae1-05b9-4013-a307-cedba54bccc0",
   "metadata": {},
   "outputs": [],
   "source": [
    "df = df.set_index(df.date)"
   ]
  },
  {
   "cell_type": "code",
   "execution_count": 11,
   "id": "bf570d57-6286-484f-ae77-3aaf8cef340c",
   "metadata": {},
   "outputs": [],
   "source": [
    "df = df[['close']]"
   ]
  },
  {
   "cell_type": "code",
   "execution_count": 12,
   "id": "43298715-b2c9-495a-bdb4-c7eef27b26de",
   "metadata": {},
   "outputs": [
    {
     "data": {
      "text/html": [
       "<div>\n",
       "<style scoped>\n",
       "    .dataframe tbody tr th:only-of-type {\n",
       "        vertical-align: middle;\n",
       "    }\n",
       "\n",
       "    .dataframe tbody tr th {\n",
       "        vertical-align: top;\n",
       "    }\n",
       "\n",
       "    .dataframe thead th {\n",
       "        text-align: right;\n",
       "    }\n",
       "</style>\n",
       "<table border=\"1\" class=\"dataframe\">\n",
       "  <thead>\n",
       "    <tr style=\"text-align: right;\">\n",
       "      <th></th>\n",
       "      <th>close</th>\n",
       "    </tr>\n",
       "    <tr>\n",
       "      <th>date</th>\n",
       "      <th></th>\n",
       "    </tr>\n",
       "  </thead>\n",
       "  <tbody>\n",
       "    <tr>\n",
       "      <th>1980-12-02</th>\n",
       "      <td>0.0567</td>\n",
       "    </tr>\n",
       "    <tr>\n",
       "      <th>1980-12-03</th>\n",
       "      <td>0.0555</td>\n",
       "    </tr>\n",
       "    <tr>\n",
       "      <th>1980-12-04</th>\n",
       "      <td>0.0573</td>\n",
       "    </tr>\n",
       "    <tr>\n",
       "      <th>1980-12-05</th>\n",
       "      <td>0.0543</td>\n",
       "    </tr>\n",
       "    <tr>\n",
       "      <th>1980-12-08</th>\n",
       "      <td>0.0512</td>\n",
       "    </tr>\n",
       "  </tbody>\n",
       "</table>\n",
       "</div>"
      ],
      "text/plain": [
       "             close\n",
       "date              \n",
       "1980-12-02  0.0567\n",
       "1980-12-03  0.0555\n",
       "1980-12-04  0.0573\n",
       "1980-12-05  0.0543\n",
       "1980-12-08  0.0512"
      ]
     },
     "execution_count": 12,
     "metadata": {},
     "output_type": "execute_result"
    }
   ],
   "source": [
    "df.head()"
   ]
  },
  {
   "cell_type": "markdown",
   "id": "c21b1093-969a-416a-bbf7-2e2735392296",
   "metadata": {},
   "source": [
    "# Preprocessing "
   ]
  },
  {
   "cell_type": "code",
   "execution_count": 13,
   "id": "50c85ea5-7629-4fce-8f1a-2ec12903b445",
   "metadata": {},
   "outputs": [],
   "source": [
    "scaler = MinMaxScaler(feature_range=(0.001, 1))  # Avoid zero values\n",
    "df_scaled = scaler.fit_transform(df[['close']])\n",
    "df['Close_Scaled'] = df_scaled\n"
   ]
  },
  {
   "cell_type": "code",
   "execution_count": 14,
   "id": "7edf4d2c-16c2-46e7-9b6f-ad76d6604048",
   "metadata": {},
   "outputs": [
    {
     "data": {
      "text/html": [
       "<div>\n",
       "<style scoped>\n",
       "    .dataframe tbody tr th:only-of-type {\n",
       "        vertical-align: middle;\n",
       "    }\n",
       "\n",
       "    .dataframe tbody tr th {\n",
       "        vertical-align: top;\n",
       "    }\n",
       "\n",
       "    .dataframe thead th {\n",
       "        text-align: right;\n",
       "    }\n",
       "</style>\n",
       "<table border=\"1\" class=\"dataframe\">\n",
       "  <thead>\n",
       "    <tr style=\"text-align: right;\">\n",
       "      <th></th>\n",
       "      <th>close</th>\n",
       "      <th>Close_Scaled</th>\n",
       "    </tr>\n",
       "    <tr>\n",
       "      <th>date</th>\n",
       "      <th></th>\n",
       "      <th></th>\n",
       "    </tr>\n",
       "  </thead>\n",
       "  <tbody>\n",
       "    <tr>\n",
       "      <th>1980-12-02</th>\n",
       "      <td>0.0567</td>\n",
       "      <td>0.001083</td>\n",
       "    </tr>\n",
       "    <tr>\n",
       "      <th>1980-12-03</th>\n",
       "      <td>0.0555</td>\n",
       "      <td>0.001076</td>\n",
       "    </tr>\n",
       "    <tr>\n",
       "      <th>1980-12-04</th>\n",
       "      <td>0.0573</td>\n",
       "      <td>0.001087</td>\n",
       "    </tr>\n",
       "    <tr>\n",
       "      <th>1980-12-05</th>\n",
       "      <td>0.0543</td>\n",
       "      <td>0.001069</td>\n",
       "    </tr>\n",
       "    <tr>\n",
       "      <th>1980-12-08</th>\n",
       "      <td>0.0512</td>\n",
       "      <td>0.001051</td>\n",
       "    </tr>\n",
       "  </tbody>\n",
       "</table>\n",
       "</div>"
      ],
      "text/plain": [
       "             close  Close_Scaled\n",
       "date                            \n",
       "1980-12-02  0.0567      0.001083\n",
       "1980-12-03  0.0555      0.001076\n",
       "1980-12-04  0.0573      0.001087\n",
       "1980-12-05  0.0543      0.001069\n",
       "1980-12-08  0.0512      0.001051"
      ]
     },
     "execution_count": 14,
     "metadata": {},
     "output_type": "execute_result"
    }
   ],
   "source": [
    "df.head()"
   ]
  },
  {
   "cell_type": "code",
   "execution_count": 15,
   "id": "6b85ee8a-4ce1-4274-971d-e9d84ace7b51",
   "metadata": {},
   "outputs": [],
   "source": [
    "df['Close_Scaled'] = np.clip(df['Close_Scaled'], 0.001, 1.0)"
   ]
  },
  {
   "cell_type": "code",
   "execution_count": 16,
   "id": "a2746402-e4dc-42c1-9f79-ae4e4e740e02",
   "metadata": {},
   "outputs": [
    {
     "name": "stdout",
     "output_type": "stream",
     "text": [
      "count    11147.000000\n",
      "mean         0.145050\n",
      "std          0.218101\n",
      "min          0.001000\n",
      "25%          0.006960\n",
      "50%          0.032566\n",
      "75%          0.194984\n",
      "max          1.000000\n",
      "Name: Close_Scaled, dtype: float64\n",
      "0.001 0.9999999999999999\n"
     ]
    }
   ],
   "source": [
    "print(df['Close_Scaled'].describe())  # Check distribution after scaling\n",
    "print(df['Close_Scaled'].min(), df['Close_Scaled'].max())  # Should be [0,1] range\n",
    "\n"
   ]
  },
  {
   "cell_type": "code",
   "execution_count": 17,
   "id": "f458b2db-a6d2-4cba-87e5-db67dc2129f7",
   "metadata": {},
   "outputs": [
    {
     "name": "stdout",
     "output_type": "stream",
     "text": [
      "11147\n"
     ]
    }
   ],
   "source": [
    "print(np.isfinite(df['close']).sum())\n"
   ]
  },
  {
   "cell_type": "code",
   "execution_count": 18,
   "id": "288df9e2-a503-4eb5-b02c-9976982ce73d",
   "metadata": {},
   "outputs": [
    {
     "name": "stdout",
     "output_type": "stream",
     "text": [
      "       Close_Scaled\n",
      "count  11147.000000\n",
      "mean       0.145050\n",
      "std        0.218101\n",
      "min        0.001000\n",
      "25%        0.006960\n",
      "50%        0.032566\n",
      "75%        0.194984\n",
      "max        1.000000\n",
      "0.001 0.9999999999999999\n"
     ]
    }
   ],
   "source": [
    "print(df[['Close_Scaled']].describe())\n",
    "print(df['Close_Scaled'].min(), df['Close_Scaled'].max())  # Should be in range [0, 1]\n"
   ]
  },
  {
   "cell_type": "code",
   "execution_count": 90,
   "id": "80209d44-2a9a-41ef-b3f0-b5a9e304596d",
   "metadata": {},
   "outputs": [],
   "source": [
    "seq_length = 90 "
   ]
  },
  {
   "cell_type": "code",
   "execution_count": 91,
   "id": "08aa4a14-8965-4755-a23f-0eefd7343227",
   "metadata": {},
   "outputs": [],
   "source": [
    "X, Y = [], []\n",
    "for i in range(len(df) - seq_length - 1):  # Ensure last index fits\n",
    "    X.append(df['Close_Scaled'].values[i : i + seq_length])\n",
    "    Y.append(df['Close_Scaled'].values[i + seq_length])  \n"
   ]
  },
  {
   "cell_type": "code",
   "execution_count": 92,
   "id": "c25c4d24-5e5b-4a61-845e-1d17d58217b0",
   "metadata": {},
   "outputs": [],
   "source": [
    "X, Y = np.array(X), np.array(Y)"
   ]
  },
  {
   "cell_type": "code",
   "execution_count": 93,
   "id": "e05be712-2503-4d82-a838-8a6522f74a07",
   "metadata": {},
   "outputs": [
    {
     "name": "stdout",
     "output_type": "stream",
     "text": [
      "11056 11056\n"
     ]
    }
   ],
   "source": [
    "print(len(X), len(Y))  # Should be the same\n"
   ]
  },
  {
   "cell_type": "code",
   "execution_count": 94,
   "id": "eb24f173-f9cd-4380-a1b6-ffc491ea94b5",
   "metadata": {},
   "outputs": [
    {
     "name": "stdout",
     "output_type": "stream",
     "text": [
      "Shape of X: (11056, 90, 1)\n",
      "Shape of Y: (11056,)\n"
     ]
    }
   ],
   "source": [
    "X = np.reshape(X, (X.shape[0], X.shape[1], 1))  \n",
    "\n",
    "print(f\"Shape of X: {X.shape}\")\n",
    "print(f\"Shape of Y: {Y.shape}\")"
   ]
  },
  {
   "cell_type": "code",
   "execution_count": 95,
   "id": "d81730f7-8524-41dc-a113-fb1d4e5adf13",
   "metadata": {},
   "outputs": [
    {
     "name": "stdout",
     "output_type": "stream",
     "text": [
      "NaNs in X: 0\n",
      "NaNs in Y: 0\n"
     ]
    }
   ],
   "source": [
    "print(f\"NaNs in X: {np.isnan(X).sum()}\")\n",
    "print(f\"NaNs in Y: {np.isnan(Y).sum()}\")\n"
   ]
  },
  {
   "cell_type": "code",
   "execution_count": 96,
   "id": "93c14287-ba9f-43eb-ac5c-2fa5d67de281",
   "metadata": {},
   "outputs": [],
   "source": [
    "# Define split sizes\n",
    "train_size = int(len(X) * 0.7)  # 70% Training\n",
    "test_size = int(len(X) * 0.2)   # 20% Testing\n",
    "valid_size = int(len(X) * 0.1)\n",
    "\n",
    "# Split data\n",
    "X_train, X_temp = X[:train_size], X[train_size:]\n",
    "Y_train, Y_temp = Y[:train_size], Y[train_size:]\n",
    "\n",
    "X_valid, X_test = X_temp[:valid_size], X_temp[valid_size:]\n",
    "Y_valid, Y_test = Y_temp[:valid_size], Y_temp[valid_size:]\n",
    "Y_train = Y_train * 0.9 + np.mean(Y_train) * 0.1\n",
    "Y_valid = Y_valid * 0.9 + np.mean(Y_valid) * 0.1\n",
    "\n"
   ]
  },
  {
   "cell_type": "code",
   "execution_count": 109,
   "id": "5e33a109-1392-42dd-a15c-7ec058c3da1d",
   "metadata": {},
   "outputs": [],
   "source": [
    "model = tf.keras.Sequential([\n",
    "    LSTM(128, return_sequences=True, activation='tanh', recurrent_activation='sigmoid'),\n",
    "    Dropout(0.05),  # Keep this dropout layer outside the LSTM\n",
    "    BatchNormalization(),\n",
    "    \n",
    "    LSTM(64, return_sequences=True, activation='tanh', recurrent_activation='sigmoid'),\n",
    "    Dropout(0.05),  # Keep this dropout layer outside the LSTM\n",
    "    BatchNormalization(),\n",
    "    \n",
    "    LSTM(64, return_sequences=False, activation='tanh', recurrent_activation='sigmoid'),\n",
    "    BatchNormalization(),\n",
    "\n",
    "    Dense(1, activation='linear')\n",
    "])\n",
    "\n",
    "\n",
    "# Compile model with AdamW optimizer (better generalization)\n",
    "model.compile(optimizer=AdamW(learning_rate=0.00005, weight_decay=1e-6, clipnorm=0.5), loss='mean_squared_error')\n",
    "\n",
    "# Callbacks\n",
    "early_stopping = EarlyStopping(monitor='val_loss', patience=20, restore_best_weights=True)\n",
    "lr_schedule = tf.keras.optimizers.schedules.ExponentialDecay(\n",
    "    initial_learning_rate=1e-5, decay_steps=500, decay_rate=0.9\n",
    ")\n",
    "optimizer = AdamW(learning_rate=lr_schedule, weight_decay=1e-6, clipnorm=0.5)\n",
    "\n",
    "\n"
   ]
  },
  {
   "cell_type": "code",
   "execution_count": 110,
   "id": "35933f2f-0666-4135-a1e7-b13769de24d7",
   "metadata": {},
   "outputs": [
    {
     "name": "stdout",
     "output_type": "stream",
     "text": [
      "Epoch 1/100\n",
      "242/242 [==============================] - 10s 29ms/step - loss: 0.0301 - val_loss: 0.0587\n",
      "Epoch 2/100\n",
      "242/242 [==============================] - 6s 24ms/step - loss: 0.0067 - val_loss: 0.0155\n",
      "Epoch 3/100\n",
      "242/242 [==============================] - 6s 24ms/step - loss: 0.0041 - val_loss: 0.0601\n",
      "Epoch 4/100\n",
      "242/242 [==============================] - 6s 24ms/step - loss: 0.0026 - val_loss: 0.1984\n",
      "Epoch 5/100\n",
      "242/242 [==============================] - 6s 25ms/step - loss: 0.0020 - val_loss: 0.5221\n",
      "Epoch 6/100\n",
      "242/242 [==============================] - 6s 25ms/step - loss: 0.0014 - val_loss: 0.2459\n",
      "Epoch 7/100\n",
      "242/242 [==============================] - 6s 24ms/step - loss: 0.0011 - val_loss: 0.2357\n",
      "Epoch 8/100\n",
      "242/242 [==============================] - 6s 24ms/step - loss: 9.1605e-04 - val_loss: 0.2605\n",
      "Epoch 9/100\n",
      "242/242 [==============================] - 6s 24ms/step - loss: 7.4836e-04 - val_loss: 0.2889\n",
      "Epoch 10/100\n",
      "242/242 [==============================] - 6s 25ms/step - loss: 6.5769e-04 - val_loss: 0.2651\n",
      "Epoch 11/100\n",
      "242/242 [==============================] - 6s 26ms/step - loss: 5.3715e-04 - val_loss: 0.1707\n",
      "Epoch 12/100\n",
      "242/242 [==============================] - 6s 25ms/step - loss: 4.9971e-04 - val_loss: 0.1864\n",
      "Epoch 13/100\n",
      "242/242 [==============================] - 6s 25ms/step - loss: 4.5929e-04 - val_loss: 0.1272\n",
      "Epoch 14/100\n",
      "242/242 [==============================] - 6s 25ms/step - loss: 4.0410e-04 - val_loss: 0.1225\n",
      "Epoch 15/100\n",
      "242/242 [==============================] - 6s 25ms/step - loss: 3.5804e-04 - val_loss: 0.0850\n",
      "Epoch 16/100\n",
      "242/242 [==============================] - 6s 26ms/step - loss: 3.2690e-04 - val_loss: 0.0862\n",
      "Epoch 17/100\n",
      "242/242 [==============================] - 6s 26ms/step - loss: 3.1009e-04 - val_loss: 0.0627\n",
      "Epoch 18/100\n",
      "242/242 [==============================] - 6s 25ms/step - loss: 2.8238e-04 - val_loss: 0.0882\n",
      "Epoch 19/100\n",
      "242/242 [==============================] - 6s 26ms/step - loss: 2.6510e-04 - val_loss: 0.0635\n",
      "Epoch 20/100\n",
      "242/242 [==============================] - 6s 27ms/step - loss: 2.5469e-04 - val_loss: 0.0735\n",
      "Epoch 21/100\n",
      "242/242 [==============================] - 6s 25ms/step - loss: 2.4151e-04 - val_loss: 0.0927\n",
      "Epoch 22/100\n",
      "242/242 [==============================] - 6s 25ms/step - loss: 2.0254e-04 - val_loss: 0.0639\n",
      "Epoch 23/100\n",
      "242/242 [==============================] - 6s 24ms/step - loss: 1.9658e-04 - val_loss: 0.0399\n",
      "Epoch 24/100\n",
      "242/242 [==============================] - 6s 25ms/step - loss: 1.8584e-04 - val_loss: 0.0506\n",
      "Epoch 25/100\n",
      "242/242 [==============================] - 6s 25ms/step - loss: 1.7902e-04 - val_loss: 0.0620\n",
      "Epoch 26/100\n",
      "242/242 [==============================] - 6s 25ms/step - loss: 1.6904e-04 - val_loss: 0.0408\n",
      "Epoch 27/100\n",
      "242/242 [==============================] - 6s 25ms/step - loss: 1.4970e-04 - val_loss: 0.0521\n",
      "Epoch 28/100\n",
      "242/242 [==============================] - 6s 26ms/step - loss: 1.5330e-04 - val_loss: 0.0464\n",
      "Epoch 29/100\n",
      "242/242 [==============================] - 6s 25ms/step - loss: 1.4387e-04 - val_loss: 0.0592\n",
      "Epoch 30/100\n",
      "242/242 [==============================] - 6s 25ms/step - loss: 1.2925e-04 - val_loss: 0.0668\n",
      "Epoch 31/100\n",
      "242/242 [==============================] - 6s 26ms/step - loss: 1.3352e-04 - val_loss: 0.0389\n",
      "Epoch 32/100\n",
      "242/242 [==============================] - 6s 25ms/step - loss: 1.3166e-04 - val_loss: 0.0857\n",
      "Epoch 33/100\n",
      "242/242 [==============================] - 6s 25ms/step - loss: 1.1735e-04 - val_loss: 0.0562\n",
      "Epoch 34/100\n",
      "242/242 [==============================] - 6s 25ms/step - loss: 1.1249e-04 - val_loss: 0.0456\n",
      "Epoch 35/100\n",
      "242/242 [==============================] - 6s 25ms/step - loss: 1.0998e-04 - val_loss: 0.0504\n",
      "Epoch 36/100\n",
      "242/242 [==============================] - 6s 25ms/step - loss: 1.0393e-04 - val_loss: 0.0393\n",
      "Epoch 37/100\n",
      "242/242 [==============================] - 6s 25ms/step - loss: 1.0959e-04 - val_loss: 0.0567\n",
      "Epoch 38/100\n",
      "242/242 [==============================] - 6s 25ms/step - loss: 9.9472e-05 - val_loss: 0.0594\n",
      "Epoch 39/100\n",
      "242/242 [==============================] - 6s 26ms/step - loss: 9.5721e-05 - val_loss: 0.0559\n",
      "Epoch 40/100\n",
      "242/242 [==============================] - 6s 27ms/step - loss: 9.6170e-05 - val_loss: 0.0382\n",
      "Epoch 41/100\n",
      "242/242 [==============================] - 6s 25ms/step - loss: 8.7720e-05 - val_loss: 0.0423\n",
      "Epoch 42/100\n",
      "242/242 [==============================] - 6s 25ms/step - loss: 8.8169e-05 - val_loss: 0.0344\n",
      "Epoch 43/100\n",
      "242/242 [==============================] - 6s 25ms/step - loss: 7.9543e-05 - val_loss: 0.0289\n",
      "Epoch 44/100\n",
      "242/242 [==============================] - 6s 25ms/step - loss: 7.8467e-05 - val_loss: 0.0394\n",
      "Epoch 45/100\n",
      "242/242 [==============================] - 6s 26ms/step - loss: 8.2799e-05 - val_loss: 0.0212\n",
      "Epoch 46/100\n",
      "242/242 [==============================] - 6s 26ms/step - loss: 6.6713e-05 - val_loss: 0.0187\n",
      "Epoch 47/100\n",
      "242/242 [==============================] - 6s 26ms/step - loss: 7.1577e-05 - val_loss: 0.0225\n",
      "Epoch 48/100\n",
      "242/242 [==============================] - 6s 25ms/step - loss: 7.3661e-05 - val_loss: 0.0213\n",
      "Epoch 49/100\n",
      "242/242 [==============================] - 6s 25ms/step - loss: 7.9040e-05 - val_loss: 0.0147\n",
      "Epoch 50/100\n",
      "242/242 [==============================] - 6s 25ms/step - loss: 6.5318e-05 - val_loss: 0.0118\n",
      "Epoch 51/100\n",
      "242/242 [==============================] - 6s 24ms/step - loss: 6.2526e-05 - val_loss: 0.0111\n",
      "Epoch 52/100\n",
      "242/242 [==============================] - 6s 25ms/step - loss: 6.1349e-05 - val_loss: 0.0110\n",
      "Epoch 53/100\n",
      "242/242 [==============================] - 6s 25ms/step - loss: 5.9880e-05 - val_loss: 0.0110\n",
      "Epoch 54/100\n",
      "242/242 [==============================] - 6s 25ms/step - loss: 6.0597e-05 - val_loss: 0.0139\n",
      "Epoch 55/100\n",
      "242/242 [==============================] - 6s 26ms/step - loss: 5.5185e-05 - val_loss: 0.0048\n",
      "Epoch 56/100\n",
      "242/242 [==============================] - 6s 26ms/step - loss: 5.3826e-05 - val_loss: 0.0109\n",
      "Epoch 57/100\n",
      "242/242 [==============================] - 6s 25ms/step - loss: 5.7572e-05 - val_loss: 0.0105\n",
      "Epoch 58/100\n",
      "242/242 [==============================] - 6s 26ms/step - loss: 5.8522e-05 - val_loss: 0.0063\n",
      "Epoch 59/100\n",
      "242/242 [==============================] - 6s 26ms/step - loss: 5.4217e-05 - val_loss: 0.0048\n",
      "Epoch 60/100\n",
      "242/242 [==============================] - 6s 26ms/step - loss: 4.9533e-05 - val_loss: 0.0023\n",
      "Epoch 61/100\n",
      "242/242 [==============================] - 6s 26ms/step - loss: 5.6314e-05 - val_loss: 0.0020\n",
      "Epoch 62/100\n",
      "242/242 [==============================] - 6s 26ms/step - loss: 5.7000e-05 - val_loss: 0.0046\n",
      "Epoch 63/100\n",
      "242/242 [==============================] - 6s 25ms/step - loss: 5.1405e-05 - val_loss: 0.0021\n",
      "Epoch 64/100\n",
      "242/242 [==============================] - 6s 25ms/step - loss: 5.4938e-05 - val_loss: 0.0020\n",
      "Epoch 65/100\n",
      "242/242 [==============================] - 6s 25ms/step - loss: 5.0622e-05 - val_loss: 0.0012\n",
      "Epoch 66/100\n",
      "242/242 [==============================] - 6s 25ms/step - loss: 6.0568e-05 - val_loss: 1.4980e-04\n",
      "Epoch 67/100\n",
      "242/242 [==============================] - 6s 25ms/step - loss: 5.7054e-05 - val_loss: 0.0030\n",
      "Epoch 68/100\n",
      "242/242 [==============================] - 6s 25ms/step - loss: 5.2495e-05 - val_loss: 7.7846e-04\n",
      "Epoch 69/100\n",
      "242/242 [==============================] - 6s 25ms/step - loss: 4.7124e-05 - val_loss: 0.0030\n",
      "Epoch 70/100\n",
      "242/242 [==============================] - 6s 26ms/step - loss: 5.3520e-05 - val_loss: 0.0026\n",
      "Epoch 71/100\n",
      "242/242 [==============================] - 6s 25ms/step - loss: 4.7085e-05 - val_loss: 0.0037\n",
      "Epoch 72/100\n",
      "242/242 [==============================] - 6s 25ms/step - loss: 4.5906e-05 - val_loss: 0.0026\n",
      "Epoch 73/100\n",
      "242/242 [==============================] - 6s 25ms/step - loss: 5.3197e-05 - val_loss: 0.0017\n",
      "Epoch 74/100\n",
      "242/242 [==============================] - 6s 25ms/step - loss: 4.3115e-05 - val_loss: 0.0019\n",
      "Epoch 75/100\n",
      "242/242 [==============================] - 6s 26ms/step - loss: 4.4966e-05 - val_loss: 0.0019\n",
      "Epoch 76/100\n",
      "242/242 [==============================] - 6s 25ms/step - loss: 4.6231e-05 - val_loss: 7.0787e-04\n",
      "Epoch 77/100\n",
      "242/242 [==============================] - 6s 25ms/step - loss: 4.1839e-05 - val_loss: 5.8144e-04\n",
      "Epoch 78/100\n",
      "242/242 [==============================] - 6s 25ms/step - loss: 4.4390e-05 - val_loss: 0.0013\n",
      "Epoch 79/100\n",
      "242/242 [==============================] - 6s 26ms/step - loss: 5.3414e-05 - val_loss: 0.0023\n",
      "Epoch 80/100\n",
      "242/242 [==============================] - 6s 25ms/step - loss: 4.5633e-05 - val_loss: 0.0021\n",
      "Epoch 81/100\n",
      "242/242 [==============================] - 6s 24ms/step - loss: 4.4695e-05 - val_loss: 0.0018\n",
      "Epoch 82/100\n",
      "242/242 [==============================] - 6s 24ms/step - loss: 4.3100e-05 - val_loss: 8.7668e-04\n",
      "Epoch 83/100\n",
      "242/242 [==============================] - 6s 25ms/step - loss: 3.9893e-05 - val_loss: 0.0021\n",
      "Epoch 84/100\n",
      "242/242 [==============================] - 6s 25ms/step - loss: 4.4785e-05 - val_loss: 0.0035\n",
      "Epoch 85/100\n",
      "242/242 [==============================] - 6s 25ms/step - loss: 3.6932e-05 - val_loss: 0.0056\n",
      "Epoch 86/100\n",
      "242/242 [==============================] - 6s 25ms/step - loss: 3.6297e-05 - val_loss: 0.0033\n",
      "Epoch 87/100\n",
      "242/242 [==============================] - 6s 25ms/step - loss: 3.6024e-05 - val_loss: 0.0023\n",
      "Epoch 88/100\n",
      "242/242 [==============================] - 6s 25ms/step - loss: 3.5344e-05 - val_loss: 0.0041\n",
      "Epoch 89/100\n",
      "242/242 [==============================] - 6s 25ms/step - loss: 4.7584e-05 - val_loss: 0.0021\n",
      "Epoch 90/100\n",
      "242/242 [==============================] - 6s 26ms/step - loss: 3.4999e-05 - val_loss: 0.0013\n",
      "Epoch 91/100\n",
      "242/242 [==============================] - 6s 25ms/step - loss: 3.8913e-05 - val_loss: 0.0021\n",
      "Epoch 92/100\n",
      "242/242 [==============================] - 6s 25ms/step - loss: 4.1223e-05 - val_loss: 0.0016\n",
      "Epoch 93/100\n",
      "242/242 [==============================] - 6s 25ms/step - loss: 3.3999e-05 - val_loss: 0.0041\n",
      "Epoch 94/100\n",
      "242/242 [==============================] - 6s 26ms/step - loss: 4.2388e-05 - val_loss: 0.0023\n",
      "Epoch 95/100\n",
      "242/242 [==============================] - 6s 26ms/step - loss: 3.4580e-05 - val_loss: 0.0043\n",
      "Epoch 96/100\n",
      "242/242 [==============================] - 6s 25ms/step - loss: 4.3307e-05 - val_loss: 0.0037\n",
      "Epoch 97/100\n",
      "242/242 [==============================] - 6s 25ms/step - loss: 3.7429e-05 - val_loss: 0.0020\n",
      "Epoch 98/100\n",
      "242/242 [==============================] - 6s 25ms/step - loss: 3.7627e-05 - val_loss: 0.0030\n",
      "Epoch 99/100\n",
      "242/242 [==============================] - 6s 25ms/step - loss: 4.6311e-05 - val_loss: 0.0051\n",
      "Epoch 100/100\n",
      "242/242 [==============================] - 6s 24ms/step - loss: 3.4813e-05 - val_loss: 0.0028\n"
     ]
    }
   ],
   "source": [
    "history = model.fit(X_train, Y_train, validation_data=(X_valid, Y_valid), epochs=100, batch_size=32)"
   ]
  },
  {
   "cell_type": "code",
   "execution_count": 111,
   "id": "f3a60649-bd31-4b2d-b27f-ad46a9c27f1a",
   "metadata": {},
   "outputs": [
    {
     "name": "stdout",
     "output_type": "stream",
     "text": [
      "Test Loss (MSE): 0.028653886169195175\n"
     ]
    }
   ],
   "source": [
    "test_loss = model.evaluate(X_test, Y_test, verbose=0)\n",
    "print(f\"Test Loss (MSE): {test_loss}\")\n"
   ]
  },
  {
   "cell_type": "code",
   "execution_count": null,
   "id": "4b4b763b-747c-44b7-a795-eb8becd90e64",
   "metadata": {},
   "outputs": [],
   "source": []
  },
  {
   "cell_type": "code",
   "execution_count": 112,
   "id": "5e379ba6-01cf-4e6f-b0eb-ac335bb0dd44",
   "metadata": {},
   "outputs": [
    {
     "data": {
      "image/png": "[encoded data removed]",
      "text/plain": [
       "<Figure size 1000x600 with 1 Axes>"
      ]
     },
     "metadata": {},
     "output_type": "display_data"
    }
   ],
   "source": [
    "# Plot training and validation loss\n",
    "plt.figure(figsize=(10,6))\n",
    "plt.plot(history.history['loss'], label='Training Loss')\n",
    "plt.plot(history.history['val_loss'], label='Validation Loss')\n",
    "plt.title('Training and Validation Loss')\n",
    "plt.xlabel('Epochs')\n",
    "plt.ylabel('Loss (MSE)')\n",
    "plt.legend()\n",
    "plt.show()\n"
   ]
  },
  {
   "cell_type": "code",
   "execution_count": 122,
   "id": "ef2bbe02-b08c-4d53-8174-e2d3755bcdb4",
   "metadata": {},
   "outputs": [
    {
     "name": "stdout",
     "output_type": "stream",
     "text": [
      "70/70 [==============================] - 1s 8ms/step\n"
     ]
    },
    {
     "data": {
      "image/png": "[encoded data removed]",
      "text/plain": [
       "<Figure size 1000x600 with 1 Axes>"
      ]
     },
     "metadata": {},
     "output_type": "display_data"
    }
   ],
   "source": [
    "Y_pred = model.predict(X_test)\n",
    "\n",
    "# Plot true vs predicted values\n",
    "plt.figure(figsize=(10,6))\n",
    "plt.plot(Y_test, label='True Values')\n",
    "plt.plot(Y_pred, label='Predicted Values')\n",
    "plt.title('True vs Predicted Values')\n",
    "plt.ylim(0,3)\n",
    "plt.xlabel('Samples')\n",
    "plt.ylabel('Value')\n",
    "plt.legend()\n",
    "plt.show()\n"
   ]
  },
  {
   "cell_type": "code",
   "execution_count": 127,
   "id": "f5300675-1438-4a85-bce0-ad2136417149",
   "metadata": {},
   "outputs": [
    {
     "name": "stdout",
     "output_type": "stream",
     "text": [
      "Mean Squared Error (MSE): 0.028654\n",
      "Root Mean Squared Error (RMSE): 0.169275\n",
      "Mean Absolute Error (MAE): 0.160679\n",
      "R² Score: 0.1152\n"
     ]
    }
   ],
   "source": [
    "mse = mean_squared_error(Y_test, Y_pred)\n",
    "rmse = np.sqrt(mse)\n",
    "mae = mean_absolute_error(Y_test, Y_pred)\n",
    "r2 = r2_score(Y_test, Y_pred)\n",
    "\n",
    "print(f\"Mean Squared Error (MSE): {mse:.6f}\")\n",
    "print(f\"Root Mean Squared Error (RMSE): {rmse:.6f}\")\n",
    "print(f\"Mean Absolute Error (MAE): {mae:.6f}\")\n",
    "print(f\"R² Score: {r2:.4f}\")"
   ]
  },
  {
   "cell_type": "code",
   "execution_count": null,
   "id": "7893d789-254c-449c-b5a8-195cf010ee8c",
   "metadata": {},
   "outputs": [],
   "source": []
  }
 ],
 "metadata": {
  "kernelspec": {
   "display_name": "Python (TensorFlow-GPU)",
   "language": "python",
   "name": "tensorflow-gpu"
  },
  "language_info": {
   "codemirror_mode": {
    "name": "ipython",
    "version": 3
   },
   "file_extension": ".py",
   "mimetype": "text/x-python",
   "name": "python",
   "nbconvert_exporter": "python",
   "pygments_lexer": "ipython3",
   "version": "3.10.16"
  }
 },
 "nbformat": 4,
 "nbformat_minor": 5
}
